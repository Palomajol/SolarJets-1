{
 "cells": [
  {
   "cell_type": "markdown",
   "metadata": {},
   "source": [
    "# Importing and Exporting data \n",
    "## Need: Jet_clusters.csv,  Jet_clusters.json and optionally the Meta file \n",
    "Examples on how to read in the data files of the csv and json format that can be found in  https://conservancy.umn.edu/handle/11299/257209.\n"
   ]
  },
  {
   "cell_type": "code",
   "execution_count": 1,
   "metadata": {},
   "outputs": [
    {
     "name": "stderr",
     "output_type": "stream",
     "text": [
      "Broken libmagic installation detected. The python-magic module is installed but can't be imported. Please check that both python-magic and the libmagic shared library are installed correctly. Uploading media other than images may not work.\n"
     ]
    }
   ],
   "source": [
    "from utils.Jet_class import json_export_list, json_import_list, csv_import_list, csv_export_list\n",
    "import numpy as np \n",
    "from astropy.io import ascii\n",
    "import matplotlib.pyplot as plt\n"
   ]
  },
  {
   "cell_type": "code",
   "execution_count": 2,
   "metadata": {},
   "outputs": [],
   "source": [
    "##Get the CSV and/or json data from https://conservancy.umn.edu/handle/11299/257209 \n",
    "\n",
    "csv_file  = 'exports/Jet_clusters_3.0_2.0_paperID.csv'\n",
    "json_file = 'exports/Jet_clusters_3.0_2.0_paperID.json'"
   ]
  },
  {
   "cell_type": "markdown",
   "metadata": {},
   "source": [
    "## Importing the csv file"
   ]
  },
  {
   "cell_type": "code",
   "execution_count": 3,
   "metadata": {},
   "outputs": [
    {
     "name": "stdout",
     "output_type": "stream",
     "text": [
      "The 883 JetCluster objects are imported from exports/Jet_clusters_3.0_2.0_paperID.csv.\n"
     ]
    },
    {
     "data": {
      "text/html": [
       "<div><i>Table length=883</i>\n",
       "<table id=\"table5135755792\" class=\"table-striped table-bordered table-condensed\">\n",
       "<thead><tr><th>sjh_ID</th><th>date</th><th>SOL_event</th><th>duration</th><th>basepoint_X</th><th>std_X</th><th>basepoint_Y</th><th>std_Y</th><th>basepoint_X_longitude</th><th>basepoint_Y_latitude</th><th>max_height</th><th>upper_H</th><th>lower_H</th><th>avg_width</th><th>std_width</th><th>velocity</th><th>sigma</th><th>flag</th></tr></thead>\n",
       "<thead><tr><th>str19</th><th>datetime64[us]</th><th>str30</th><th>float64</th><th>float64</th><th>float64</th><th>float64</th><th>float64</th><th>float64</th><th>float64</th><th>float64</th><th>float64</th><th>float64</th><th>float64</th><th>float64</th><th>float64</th><th>float64</th><th>str3</th></tr></thead>\n",
       "<tr><td>sjh_2011-01-20T09_1</td><td>2011-01-20T09:15:44.000000</td><td>SOL2011-01-20T09:00:09L289C165</td><td>43.6</td><td>-226.57712500000002</td><td>7.456468306737113</td><td>-956.964375</td><td>9.576813796058403</td><td>-109.0</td><td>-75.0</td><td>173.81138876955092</td><td>46.78503159773529</td><td>-36.86266215059402</td><td>52.28251189079931</td><td>14.552284486067055</td><td>0.13927194612944785</td><td>0.41766147297317513</td><td>001</td></tr>\n",
       "<tr><td>sjh_2011-01-20T23_1</td><td>2011-01-20T23:49:20.000000</td><td>SOL2011-01-20T22:00:09L353C074</td><td>10.8</td><td>-143.625</td><td>1.125</td><td>386.404</td><td>2.8559999999999945</td><td>-8.0</td><td>18.0</td><td>97.73191652679279</td><td>16.54802783001337</td><td>-14.151831134222832</td><td>83.20449987487245</td><td>10.121326695268365</td><td>nan</td><td>0.3370461716457721</td><td>010</td></tr>\n",
       "<tr><td>sjh_2011-01-20T23_2</td><td>2011-01-20T23:54:32.000000</td><td>SOL2011-01-20T22:00:09L353C074</td><td>5.6</td><td>-142.5</td><td>0.0</td><td>389.26</td><td>0.0</td><td>-8.0</td><td>18.0</td><td>75.81401852559989</td><td>49.6935222981148</td><td>-30.01784271594722</td><td>40.38400970681343</td><td>0.0</td><td>nan</td><td>0.6351121573326256</td><td>110</td></tr>\n",
       "<tr><td>sjh_2011-01-21T04_1</td><td>2011-01-21T04:14:32.000000</td><td>SOL2011-01-20T22:00:09L353C074</td><td>9.2</td><td>-100.466</td><td>0.0</td><td>387.028</td><td>0.0</td><td>-6.0</td><td>18.0</td><td>84.05752070606174</td><td>30.62288176396804</td><td>-22.445714023603273</td><td>79.4050196764033</td><td>0.0</td><td>nan</td><td>0.4627520888012237</td><td>010</td></tr>\n",
       "<tr><td>sjh_2011-01-21T06_1</td><td>2011-01-21T06:48:56.000000</td><td>SOL2011-01-20T22:00:09L353C074</td><td>5.6</td><td>-11.3714</td><td>0.0</td><td>475.01</td><td>0.0</td><td>-0.0</td><td>23.0</td><td>129.8946272599833</td><td>38.593653838732735</td><td>-29.75345375531411</td><td>73.4697871552654</td><td>0.0</td><td>nan</td><td>0.40564902881288695</td><td>110</td></tr>\n",
       "<tr><td>sjh_2011-01-21T11_1</td><td>2011-01-21T11:50:32.000000</td><td>SOL2011-01-20T22:00:09L353C074</td><td>5.6</td><td>-26.5453</td><td>0.0</td><td>371.773</td><td>0.0</td><td>-1.0</td><td>17.0</td><td>23.42600581085046</td><td>8.719189992718503</td><td>-6.354162428609442</td><td>22.865005598074973</td><td>0.0</td><td>nan</td><td>0.46891462455034744</td><td>110</td></tr>\n",
       "<tr><td>sjh_2011-01-24T22_1</td><td>2011-01-24T22:15:08.000000</td><td>SOL2011-01-24T22:15:09L358C011</td><td>57.6</td><td>146.37491555555556</td><td>104.44360080565632</td><td>974.3873333333335</td><td>12.755177571828979</td><td>57.0</td><td>79.0</td><td>173.1174711922514</td><td>61.264673867704474</td><td>-45.25082493242803</td><td>60.792181826817746</td><td>31.261629021150384</td><td>0.1109727379437509</td><td>0.4308007594646712</td><td>000</td></tr>\n",
       "<tr><td>sjh_2011-01-24T22_2</td><td>2011-01-24T22:51:32.000000</td><td>SOL2011-01-24T22:15:09L358C011</td><td>26.4</td><td>8.437046666666667</td><td>11.597058223260282</td><td>982.837</td><td>8.185189714763267</td><td>5.0</td><td>84.0</td><td>92.06302271383935</td><td>19.591910461856553</td><td>-16.15414963366815</td><td>22.188995772290763</td><td>2.3112426817254255</td><td>nan</td><td>0.4514196496124934</td><td>010</td></tr>\n",
       "<tr><td>sjh_2011-01-24T23_1</td><td>2011-01-24T23:27:56.000000</td><td>SOL2011-01-24T22:15:09L358C011</td><td>10.8</td><td>210.44</td><td>1.0859999999999985</td><td>966.5519999999999</td><td>0.9309999999999832</td><td>65.0</td><td>76.0</td><td>68.36303259072119</td><td>34.618915427635876</td><td>-22.981251463732473</td><td>21.39693401683472</td><td>1.8003053016704342</td><td>nan</td><td>0.5716372800545004</td><td>010</td></tr>\n",
       "<tr><td>sjh_2011-01-26T02_1</td><td>2011-01-26T02:02:44.000000</td><td>SOL2011-01-26T01:52:21L007C038</td><td>62.6</td><td>605.3617777777778</td><td>22.435325650895464</td><td>780.9248888888889</td><td>18.511319836758418</td><td>82.0</td><td>51.0</td><td>193.04841602561768</td><td>54.47672079527927</td><td>-42.48717845334662</td><td>72.20724648376635</td><td>33.69126703546245</td><td>0.15468623078975777</td><td>0.40685666629586476</td><td>000</td></tr>\n",
       "<tr><td>sjh_2011-02-13T05_1</td><td>2011-02-13T05:08:20.000000</td><td>SOL2011-02-13T04:57:46L131C056</td><td>31.6</td><td>852.5908333333333</td><td>1.3278869701731133</td><td>490.8205</td><td>1.2138280699231527</td><td>85.0</td><td>29.0</td><td>282.77087051179797</td><td>128.0357051117572</td><td>-88.13093543132528</td><td>42.276329507465185</td><td>18.191007220865</td><td>0.18126337853320382</td><td>0.47257942418953885</td><td>000</td></tr>\n",
       "<tr><td>sjh_2011-02-13T05_2</td><td>2011-02-13T05:39:32.000000</td><td>SOL2011-02-13T04:57:46L131C056</td><td>5.6</td><td>860.71</td><td>0.0</td><td>490.906</td><td>0.0</td><td>86.0</td><td>29.0</td><td>293.0084371635056</td><td>95.94623445962759</td><td>-72.27848965901646</td><td>88.95972361130622</td><td>0.0</td><td>nan</td><td>0.43250470142608466</td><td>110</td></tr>\n",
       "<tr><td>sjh_2011-02-14T05_1</td><td>2011-02-14T05:31:20.000000</td><td>SOL2011-02-14T05:31:16L307C065</td><td>47.4</td><td>-847.6046666666666</td><td>15.561454180834849</td><td>466.5583333333333</td><td>11.379502801089338</td><td>-80.0</td><td>27.0</td><td>257.19211291367395</td><td>63.10360776117224</td><td>-50.67114283755148</td><td>33.18622116922302</td><td>9.984916711201782</td><td>0.11711844850349451</td><td>0.4149497432241027</td><td>000</td></tr>\n",
       "<tr><td>sjh_2011-03-20T00_1</td><td>2011-03-20T00:52:08.000000</td><td>SOL2011-03-20T00:00:04L223C126</td><td>14.0</td><td>-876.124</td><td>0.0</td><td>-409.203</td><td>0.0</td><td>-93.0</td><td>-24.0</td><td>62.502024327216716</td><td>32.741577681180374</td><td>-21.48611393928753</td><td>52.90468776961076</td><td>0.0</td><td>nan</td><td>0.5693578411249813</td><td>011</td></tr>\n",
       "<tr><td>sjh_2011-03-20T01_1</td><td>2011-03-20T01:05:08.000000</td><td>SOL2011-03-20T00:00:04L223C126</td><td>14.0</td><td>-904.16</td><td>0.0</td><td>-341.926</td><td>0.0</td><td>-92.0</td><td>-20.0</td><td>170.02207813398817</td><td>67.77115865302238</td><td>-48.4563538787933</td><td>155.6970693943852</td><td>0.0</td><td>nan</td><td>0.4887755181864979</td><td>011</td></tr>\n",
       "<tr><td>sjh_2011-03-20T01_2</td><td>2011-03-20T01:18:08.000000</td><td>SOL2011-03-20T00:00:04L223C126</td><td>14.0</td><td>-838.194</td><td>0.0</td><td>-494.809</td><td>0.0</td><td>-93.0</td><td>-30.0</td><td>117.6785899176227</td><td>37.3632330388459</td><td>-28.359138811270466</td><td>38.2987540397856</td><td>0.0</td><td>nan</td><td>0.42390092296947096</td><td>011</td></tr>\n",
       "<tr><td>...</td><td>...</td><td>...</td><td>...</td><td>...</td><td>...</td><td>...</td><td>...</td><td>...</td><td>...</td><td>...</td><td>...</td><td>...</td><td>...</td><td>...</td><td>...</td><td>...</td><td>...</td></tr>\n",
       "<tr><td>sjh_2016-10-26T06_1</td><td>2016-10-26T06:13:18.000000</td><td>SOL2016-10-26T05:31:53L341C077</td><td>16.0</td><td>801.421</td><td>0.7760000000000105</td><td>201.085</td><td>0.6779999999999973</td><td>58.0</td><td>14.0</td><td>37.28421597673738</td><td>13.000861536827182</td><td>-9.639578049610543</td><td>11.27466706663051</td><td>1.4693682440550617</td><td>nan</td><td>0.3882642895798891</td><td>010</td></tr>\n",
       "<tr><td>sjh_2016-10-28T01_1</td><td>2016-10-28T01:58:18.000000</td><td>SOL2016-10-27T23:06:54L344C077</td><td>10.8</td><td>931.798</td><td>1.29200000000003</td><td>200.132</td><td>2.442999999999998</td><td>81.0</td><td>12.0</td><td>37.532107907763496</td><td>12.640259794765504</td><td>-9.455714695628963</td><td>20.101107590843263</td><td>9.770979179250332</td><td>0.12029521765308814</td><td>0.4301227298579581</td><td>000</td></tr>\n",
       "<tr><td>sjh_2016-10-28T11_1</td><td>2016-10-28T11:00:30.000000</td><td>SOL2016-10-28T11:00:25L344C077</td><td>5.6</td><td>943.915</td><td>0.0</td><td>249.43</td><td>0.0</td><td>91.0</td><td>14.0</td><td>40.33103445239167</td><td>17.463934809032843</td><td>-12.186848880764753</td><td>15.624719389480214</td><td>0.0</td><td>nan</td><td>0.5130339901329116</td><td>111</td></tr>\n",
       "<tr><td>sjh_2016-10-28T11_2</td><td>2016-10-28T11:00:30.000000</td><td>SOL2016-10-28T11:00:25L344C077</td><td>5.6</td><td>938.85</td><td>0.0</td><td>209.779</td><td>0.0</td><td>85.0</td><td>12.0</td><td>29.123169212844942</td><td>7.5861165618183</td><td>-6.018416093801735</td><td>10.9475131879345</td><td>0.0</td><td>nan</td><td>0.37060194358262044</td><td>110</td></tr>\n",
       "<tr><td>sjh_2016-10-28T11_3</td><td>2016-10-28T11:16:06.000000</td><td>SOL2016-10-28T11:00:25L344C077</td><td>5.6</td><td>939.278</td><td>0.0</td><td>245.392</td><td>0.0</td><td>91.0</td><td>14.0</td><td>48.690826415249944</td><td>15.278522296192397</td><td>-11.629380195211558</td><td>17.889703547012648</td><td>0.0</td><td>nan</td><td>0.42063743079177035</td><td>111</td></tr>\n",
       "<tr><td>sjh_2016-10-28T11_4</td><td>2016-10-28T11:16:06.000000</td><td>SOL2016-10-28T11:00:25L344C077</td><td>5.6</td><td>952.039</td><td>0.0</td><td>208.595</td><td>0.0</td><td>90.0</td><td>12.0</td><td>36.8990979022523</td><td>8.87797832955553</td><td>-7.156188610593702</td><td>12.201032128471748</td><td>0.0</td><td>nan</td><td>0.3502662961468914</td><td>110</td></tr>\n",
       "<tr><td>sjh_2016-10-28T11_5</td><td>2016-10-28T11:16:06.000000</td><td>SOL2016-10-28T11:00:25L344C077</td><td>5.6</td><td>939.843</td><td>0.0</td><td>215.487</td><td>0.0</td><td>87.0</td><td>13.0</td><td>74.72919794163458</td><td>28.160697924870043</td><td>-20.45318786338942</td><td>63.06016670609104</td><td>0.0</td><td>nan</td><td>0.472484546503322</td><td>110</td></tr>\n",
       "<tr><td>sjh_2016-10-28T11_6</td><td>2016-10-28T11:31:42.000000</td><td>SOL2016-10-28T11:00:25L344C077</td><td>26.4</td><td>945.29525</td><td>6.106775760374715</td><td>215.28225</td><td>0.2862825309026021</td><td>90.0</td><td>12.0</td><td>46.505123094128024</td><td>18.61075269491335</td><td>-13.291617972785941</td><td>21.096556910142734</td><td>3.9672506269593297</td><td>0.1490548817119488</td><td>0.4728134567992267</td><td>000</td></tr>\n",
       "<tr><td>sjh_2016-10-28T12_1</td><td>2016-10-28T12:39:18.000000</td><td>SOL2016-10-28T11:00:25L344C077</td><td>10.8</td><td>945.0740000000001</td><td>3.915999999999997</td><td>222.7685</td><td>9.788499999999999</td><td>90.0</td><td>13.0</td><td>46.71076395221985</td><td>13.045948110364925</td><td>-10.197786686756412</td><td>47.13600358676773</td><td>21.29193624046948</td><td>0.14971398702634567</td><td>0.3696263604193254</td><td>000</td></tr>\n",
       "<tr><td>sjh_2016-10-28T13_1</td><td>2016-10-28T13:31:18.000000</td><td>SOL2016-10-28T11:00:25L344C077</td><td>5.6</td><td>941.641</td><td>0.0</td><td>209.532</td><td>0.0</td><td>88.0</td><td>12.0</td><td>23.850133437781924</td><td>8.688273682437147</td><td>-6.368366032931361</td><td>8.534761390923611</td><td>0.0</td><td>nan</td><td>0.46273438216379215</td><td>110</td></tr>\n",
       "<tr><td>sjh_2016-10-28T13_2</td><td>2016-10-28T13:46:54.000000</td><td>SOL2016-10-28T11:00:25L344C077</td><td>16.0</td><td>948.1255</td><td>2.982499999999959</td><td>216.6225</td><td>1.3954999999999984</td><td>90.0</td><td>12.0</td><td>36.598303580903824</td><td>13.874600594707477</td><td>-10.06058305783516</td><td>12.455191644938326</td><td>2.5514704755999897</td><td>nan</td><td>0.4529635387138453</td><td>010</td></tr>\n",
       "<tr><td>sjh_2016-11-28T23_1</td><td>2016-11-28T23:31:18.000000</td><td>SOL2016-11-28T23:15:34L282C007</td><td>21.4</td><td>90.74123333333334</td><td>13.444357930952133</td><td>992.4483333333333</td><td>10.39744559441831</td><td>100.0</td><td>84.0</td><td>74.23164738169305</td><td>28.677196620024016</td><td>-20.685836752355208</td><td>41.422292365015544</td><td>16.527980297881964</td><td>0.0793073155787319</td><td>0.45926781284746454</td><td>001</td></tr>\n",
       "<tr><td>sjh_2016-12-01T06_1</td><td>2016-12-01T06:15:42.000000</td><td>SOL2016-12-01T06:00:06L078C065</td><td>26.4</td><td>-925.2139999999999</td><td>3.371742991391858</td><td>334.9324</td><td>4.124857456931092</td><td>-90.0</td><td>19.0</td><td>182.89357372253406</td><td>76.7710165804018</td><td>-54.073316520827305</td><td>56.74056279778851</td><td>4.853881682758239</td><td>0.2930986758373943</td><td>0.46537225589777087</td><td>000</td></tr>\n",
       "<tr><td>sjh_2016-12-14T18_1</td><td>2016-12-14T18:21:18.000000</td><td>SOL2016-12-14T18:16:06L031C014</td><td>10.8</td><td>139.922</td><td>1.1210000000000093</td><td>946.2760000000001</td><td>0.29000000000002046</td><td>34.0</td><td>75.0</td><td>37.32509907555509</td><td>14.085658193497562</td><td>-10.226431500809294</td><td>27.28107274288687</td><td>3.442009296517954</td><td>nan</td><td>0.5166630429055606</td><td>010</td></tr>\n",
       "<tr><td>sjh_2016-12-24T14_1</td><td>2016-12-24T14:29:42.000000</td><td>SOL2016-12-24T14:29:34L217C003</td><td>10.4</td><td>-0.883805</td><td>0.17081499999999994</td><td>988.594</td><td>2.6339999999999577</td><td>-1.0</td><td>87.0</td><td>72.07019071460815</td><td>15.427879051490661</td><td>-12.70759673367837</td><td>27.40231265858211</td><td>4.503470853032207</td><td>0.2502437177590561</td><td>0.3862841776033085</td><td>000</td></tr>\n",
       "<tr><td>sjh_2016-12-24T14_2</td><td>2016-12-24T14:29:42.000000</td><td>SOL2016-12-24T14:29:34L217C003</td><td>5.6</td><td>-28.9456</td><td>0.0</td><td>982.297</td><td>0.0</td><td>-36.0</td><td>87.0</td><td>38.27810138460372</td><td>4.101061824746499</td><td>-3.704199149395638</td><td>15.276940093160015</td><td>0.0</td><td>nan</td><td>0.18417685445049184</td><td>110</td></tr>\n",
       "</table></div>"
      ],
      "text/plain": [
       "<Table length=883>\n",
       "       sjh_ID                  date                      SOL_event            ...       velocity             sigma        flag\n",
       "       str19              datetime64[us]                   str30              ...       float64             float64       str3\n",
       "------------------- -------------------------- ------------------------------ ... ------------------- ------------------- ----\n",
       "sjh_2011-01-20T09_1 2011-01-20T09:15:44.000000 SOL2011-01-20T09:00:09L289C165 ... 0.13927194612944785 0.41766147297317513  001\n",
       "sjh_2011-01-20T23_1 2011-01-20T23:49:20.000000 SOL2011-01-20T22:00:09L353C074 ...                 nan  0.3370461716457721  010\n",
       "sjh_2011-01-20T23_2 2011-01-20T23:54:32.000000 SOL2011-01-20T22:00:09L353C074 ...                 nan  0.6351121573326256  110\n",
       "sjh_2011-01-21T04_1 2011-01-21T04:14:32.000000 SOL2011-01-20T22:00:09L353C074 ...                 nan  0.4627520888012237  010\n",
       "sjh_2011-01-21T06_1 2011-01-21T06:48:56.000000 SOL2011-01-20T22:00:09L353C074 ...                 nan 0.40564902881288695  110\n",
       "sjh_2011-01-21T11_1 2011-01-21T11:50:32.000000 SOL2011-01-20T22:00:09L353C074 ...                 nan 0.46891462455034744  110\n",
       "sjh_2011-01-24T22_1 2011-01-24T22:15:08.000000 SOL2011-01-24T22:15:09L358C011 ...  0.1109727379437509  0.4308007594646712  000\n",
       "sjh_2011-01-24T22_2 2011-01-24T22:51:32.000000 SOL2011-01-24T22:15:09L358C011 ...                 nan  0.4514196496124934  010\n",
       "sjh_2011-01-24T23_1 2011-01-24T23:27:56.000000 SOL2011-01-24T22:15:09L358C011 ...                 nan  0.5716372800545004  010\n",
       "sjh_2011-01-26T02_1 2011-01-26T02:02:44.000000 SOL2011-01-26T01:52:21L007C038 ... 0.15468623078975777 0.40685666629586476  000\n",
       "sjh_2011-02-13T05_1 2011-02-13T05:08:20.000000 SOL2011-02-13T04:57:46L131C056 ... 0.18126337853320382 0.47257942418953885  000\n",
       "sjh_2011-02-13T05_2 2011-02-13T05:39:32.000000 SOL2011-02-13T04:57:46L131C056 ...                 nan 0.43250470142608466  110\n",
       "sjh_2011-02-14T05_1 2011-02-14T05:31:20.000000 SOL2011-02-14T05:31:16L307C065 ... 0.11711844850349451  0.4149497432241027  000\n",
       "sjh_2011-03-20T00_1 2011-03-20T00:52:08.000000 SOL2011-03-20T00:00:04L223C126 ...                 nan  0.5693578411249813  011\n",
       "sjh_2011-03-20T01_1 2011-03-20T01:05:08.000000 SOL2011-03-20T00:00:04L223C126 ...                 nan  0.4887755181864979  011\n",
       "sjh_2011-03-20T01_2 2011-03-20T01:18:08.000000 SOL2011-03-20T00:00:04L223C126 ...                 nan 0.42390092296947096  011\n",
       "                ...                        ...                            ... ...                 ...                 ...  ...\n",
       "sjh_2016-10-26T06_1 2016-10-26T06:13:18.000000 SOL2016-10-26T05:31:53L341C077 ...                 nan  0.3882642895798891  010\n",
       "sjh_2016-10-28T01_1 2016-10-28T01:58:18.000000 SOL2016-10-27T23:06:54L344C077 ... 0.12029521765308814  0.4301227298579581  000\n",
       "sjh_2016-10-28T11_1 2016-10-28T11:00:30.000000 SOL2016-10-28T11:00:25L344C077 ...                 nan  0.5130339901329116  111\n",
       "sjh_2016-10-28T11_2 2016-10-28T11:00:30.000000 SOL2016-10-28T11:00:25L344C077 ...                 nan 0.37060194358262044  110\n",
       "sjh_2016-10-28T11_3 2016-10-28T11:16:06.000000 SOL2016-10-28T11:00:25L344C077 ...                 nan 0.42063743079177035  111\n",
       "sjh_2016-10-28T11_4 2016-10-28T11:16:06.000000 SOL2016-10-28T11:00:25L344C077 ...                 nan  0.3502662961468914  110\n",
       "sjh_2016-10-28T11_5 2016-10-28T11:16:06.000000 SOL2016-10-28T11:00:25L344C077 ...                 nan   0.472484546503322  110\n",
       "sjh_2016-10-28T11_6 2016-10-28T11:31:42.000000 SOL2016-10-28T11:00:25L344C077 ...  0.1490548817119488  0.4728134567992267  000\n",
       "sjh_2016-10-28T12_1 2016-10-28T12:39:18.000000 SOL2016-10-28T11:00:25L344C077 ... 0.14971398702634567  0.3696263604193254  000\n",
       "sjh_2016-10-28T13_1 2016-10-28T13:31:18.000000 SOL2016-10-28T11:00:25L344C077 ...                 nan 0.46273438216379215  110\n",
       "sjh_2016-10-28T13_2 2016-10-28T13:46:54.000000 SOL2016-10-28T11:00:25L344C077 ...                 nan  0.4529635387138453  010\n",
       "sjh_2016-11-28T23_1 2016-11-28T23:31:18.000000 SOL2016-11-28T23:15:34L282C007 ...  0.0793073155787319 0.45926781284746454  001\n",
       "sjh_2016-12-01T06_1 2016-12-01T06:15:42.000000 SOL2016-12-01T06:00:06L078C065 ...  0.2930986758373943 0.46537225589777087  000\n",
       "sjh_2016-12-14T18_1 2016-12-14T18:21:18.000000 SOL2016-12-14T18:16:06L031C014 ...                 nan  0.5166630429055606  010\n",
       "sjh_2016-12-24T14_1 2016-12-24T14:29:42.000000 SOL2016-12-24T14:29:34L217C003 ...  0.2502437177590561  0.3862841776033085  000\n",
       "sjh_2016-12-24T14_2 2016-12-24T14:29:42.000000 SOL2016-12-24T14:29:34L217C003 ...                 nan 0.18417685445049184  110"
      ]
     },
     "execution_count": 3,
     "metadata": {},
     "output_type": "execute_result"
    }
   ],
   "source": [
    "data = csv_import_list(csv_file)\n",
    "#csv_export_list(data[:2], 'exports/csv_file_test')\n",
    "data"
   ]
  },
  {
   "cell_type": "code",
   "execution_count": null,
   "metadata": {},
   "outputs": [],
   "source": []
  },
  {
   "cell_type": "code",
   "execution_count": 4,
   "metadata": {},
   "outputs": [],
   "source": [
    "# 1st column is the Solar Jet Hunter ID of the for sjh_YYYYMMddThh_#\n",
    "#(data and hour of event; last number denotes which event this was in that hour)\n",
    "sjh_identifier = data['sjh_ID']\n",
    "\n",
    "# 2nd column is the date: Observation time of the start of the jet (format YYYY-MM-DDThh:mm:ss)\n",
    "Cluster_date = data['date']\n",
    "\n",
    "# 3rd column is SOL_event: The coronal jet event name from HEK database where this jet was found in\n",
    "##(multiple jets can be found in one coronal event)\n",
    "Cluster_SOL = data['SOL_event']\n",
    "\n",
    "# 4th column is duration of the jet (minutes)\n",
    "stat_dur = data['duration']\n",
    "\n",
    "# 5th column is basepoint_X: Basepoint of the jet in (Heliocentric solar X coordinates in arcsec)\n",
    "stat_Bx = data['basepoint_X']\n",
    "# 6th column is Std_X: Standard deviation of the base point if there were multiple measurements of the base point (Heliocentric solar X coordinates in arcsec)\n",
    "std_Bx = data['std_X']\n",
    "\n",
    "# 7th column is basepoint_Y: Basepoint of the jet in (Heliocentric solar Y coordinates in arcsec)\n",
    "stat_By = data['basepoint_Y']\n",
    "# 8th column is std_Y: Standard deviation of the base point if there were multiple measurements of the base point (Heliocentric solar Y coordinates in arcsec)\n",
    "std_By = data['std_Y']\n",
    "\n",
    "# 9th column is basepoint_X_longitude: Basepoint of the jet (longitude)\n",
    "stat_Lon = data['basepoint_X_longitude']\n",
    "# 10th column is basepoint_Y_latitude: Basepoint of the jet (latitude)\n",
    "stat_Lat = data['basepoint_Y_latitude']\n",
    "\n",
    "# 11th column is max_height: Maximum height jet reaches (arcsec)\n",
    "stat_H = data['max_height']\n",
    "# 12th column is upper_H: Upper limit of the error height (arcsec)\n",
    "upper_H = data['upper_H']\n",
    "# 13th column is lower_H: Lower limit of the error height (arcsec)\n",
    "lower_H = data['lower_H']\n",
    "\n",
    "# 14th column is avg_width: Average width of the jet box (arcsec)\n",
    "stat_W = data['avg_width']\n",
    "# 15th column is std_width: Standard deviation width (arcsec)\n",
    "std_W = data['std_width']\n",
    "\n",
    "# 16th column is velocity: Velocity estimate (arcsec per sec)\n",
    "stat_vel = data['velocity']\n",
    "\n",
    "# 17th column is sigma: Average sigma of the jet, (sigma= 1-IoU)\n",
    "stat_sigma = data['sigma']\n",
    "\n",
    "# 18th column is flag: Binary quality flags\n",
    "##flag 100 means the jet cluster has a duration of less than 6 minutes, which for many corresponds to a jet cluster found in one Zooniverse subject\n",
    "##flag 010 means the velocity estimate could not be calculated because the maximum was reached in the first subject the jet was found in.\n",
    "##flag 001 means the basepoint has a Longitude of higher than 90 degrees meaning the base point was found to be (slightly) off limb.\n",
    "flags = data['flag']"
   ]
  },
  {
   "cell_type": "markdown",
   "metadata": {},
   "source": [
    "## Importing the json file"
   ]
  },
  {
   "cell_type": "code",
   "execution_count": 5,
   "metadata": {},
   "outputs": [
    {
     "name": "stdout",
     "output_type": "stream",
     "text": [
      "The 883 JetCluster objects are imported from exports/Jet_clusters_3.0_2.0_paperID.json.\n"
     ]
    }
   ],
   "source": [
    "Jet_clusters=json_import_list(json_file)\n",
    "#json_export_list(Jet_clusters[:2],'exports/test')"
   ]
  },
  {
   "cell_type": "code",
   "execution_count": null,
   "metadata": {},
   "outputs": [],
   "source": []
  },
  {
   "cell_type": "code",
   "execution_count": 6,
   "metadata": {},
   "outputs": [],
   "source": [
    "# Here we have the same format as for the CSV file information\n",
    "sjh_identifier = np.array([Jet_clusters[i].ID for i in range(len(Jet_clusters))], dtype=str)\n",
    "Cluster_date = np.array([Jet_clusters[i].obs_time for i in range(len(Jet_clusters))], dtype='datetime64')\n",
    "Cluster_SOL = np.array([Jet_clusters[i].SOL for i in range(len(Jet_clusters))], dtype=str)\n",
    "stat_Bx = np.array([Jet_clusters[i].Bx for i in range(len(Jet_clusters))], dtype=float)\n",
    "stat_By = np.array([Jet_clusters[i].By for i in range(len(Jet_clusters))], dtype=float)\n",
    "stat_Lon = np.array([Jet_clusters[i].Lon for i in range(len(Jet_clusters))], dtype=float)\n",
    "stat_Lat = np.array([Jet_clusters[i].Lat for i in range(len(Jet_clusters))], dtype=float)\n",
    "stat_H = np.array([Jet_clusters[i].Max_Height for i in range(len(Jet_clusters))], dtype=float)\n",
    "stat_W = np.array([Jet_clusters[i].Width for i in range(len(Jet_clusters))], dtype=float)\n",
    "stat_dur = np.array([Jet_clusters[i].Duration for i in range(len(Jet_clusters))], dtype=float)\n",
    "stat_vel = np.array([Jet_clusters[i].Velocity for i in range(len(Jet_clusters))], dtype=float)\n",
    "stat_sigma = np.array([Jet_clusters[i].sigma for i in range(len(Jet_clusters))], dtype=float)\n",
    "std_H = np.array([Jet_clusters[i].std_maxH for i in range(len(Jet_clusters))], dtype=float)\n",
    "std_W = np.array([Jet_clusters[i].std_W for i in range(len(Jet_clusters))], dtype=float)\n",
    "std_Bx = np.array([Jet_clusters[i].std_Bx for i in range(len(Jet_clusters))], dtype=float)\n",
    "std_By = np.array([Jet_clusters[i].std_By for i in range(len(Jet_clusters))], dtype=float)\n",
    "flags = np.array([Jet_clusters[i].flag for i in range(len(Jet_clusters))], dtype=str)\n"
   ]
  },
  {
   "cell_type": "code",
   "execution_count": 7,
   "metadata": {},
   "outputs": [
    {
     "name": "stdout",
     "output_type": "stream",
     "text": [
      "Jet information\n",
      "subject 70439520\n",
      "sigma 0.5044908130142443\n",
      "time 2011-01-20T09:15:44.000000\n",
      "Height arcsec 36.31600860502159\n",
      "Upper lower height [ 15.2747905  -10.75229368]\n",
      "Width arcsec 23.6300054168424\n",
      "start arcsec [-235.235 -953.296]\n",
      "end arcsec [-237.177 -957.5  ]\n",
      "start pixel [1033.75313314  485.56187948]\n",
      "end pixel [1024.50595093  505.61196899]\n",
      "cluster pixels [954.59146626 480.59115711 173.13948567 112.65634156   1.57079633]\n",
      "cluster solar [-251.838      -952.241        23.63000542   36.31600861    1.57079633]\n",
      "Jet information\n",
      "subject 70439521\n",
      "sigma 0.34739267018268244\n",
      "time 2011-01-20T09:20:56.000000\n",
      "Height arcsec 75.43760020705854\n",
      "Upper lower height [ 17.94412447 -14.49600221]\n",
      "Width arcsec 43.99169631873725\n",
      "start arcsec [-234.794 -949.794]\n",
      "end arcsec [-233.437 -945.951]\n",
      "start pixel [1035.84464809  468.86444092]\n",
      "end pixel [1042.30095673  450.54118729]\n",
      "cluster pixels [867.88557653 504.47737319 359.66871202 209.73354524   1.62757988]\n",
      "cluster solar [-270.029      -957.238        43.99169632   75.43760021    1.62757988]\n",
      "Jet information\n",
      "subject 70439522\n",
      "sigma 0.4997793746470838\n",
      "time 2011-01-20T09:26:08.000000\n",
      "Height arcsec 110.80315299665436\n",
      "Upper lower height [ 45.86160832 -32.43620812]\n",
      "Width arcsec 53.18947153337773\n",
      "start arcsec [-232.677 -947.272]\n",
      "end arcsec [-228.115 -951.445]\n",
      "start pixel [1045.92751312  456.83213806]\n",
      "end pixel [1067.68975067  476.71261978]\n",
      "cluster pixels [766.29895065 557.03769096 528.2523951  253.582458     1.95333809]\n",
      "cluster solar [-291.344      -968.248        53.18947153  110.803153      1.95333809]\n",
      "Jet information\n",
      "subject 70439523\n",
      "sigma 0.4134270861108646\n",
      "time 2011-01-20T09:31:20.000000\n",
      "Height arcsec 155.06528625388734\n",
      "Upper lower height [ 47.40140371 -36.30380996]\n",
      "Width arcsec 78.97413612063129\n",
      "start arcsec [-221.77  -951.792]\n",
      "end arcsec [-219.04  -954.102]\n",
      "start pixel [1097.93919678  478.34670105]\n",
      "end pixel [1110.96650391  489.35102539]\n",
      "cluster pixels [586.8360411  598.50690232 739.27582135 376.51073454   2.00085343]\n",
      "cluster solar [-328.994      -976.919        78.97413612  155.06528625    2.00085343]\n",
      "Jet information\n",
      "subject 70439524\n",
      "sigma 0.37918880827285645\n",
      "time 2011-01-20T09:36:32.000000\n",
      "Height arcsec 173.81138876955092\n",
      "Upper lower height [ 46.7850316  -36.86266215]\n",
      "Width arcsec 60.43014407561842\n",
      "start arcsec [-216.236 -947.12 ]\n",
      "end arcsec [-213.226 -960.02 ]\n",
      "start pixel [1124.31047363  456.05320435]\n",
      "end pixel [1138.70188904  517.5472641 ]\n",
      "cluster pixels [501.72513194 661.92978609 828.68361037 288.09985302   2.1439009 ]\n",
      "cluster solar [-346.856      -990.209        60.43014408  173.81138877    2.1439009 ]\n",
      "Jet information\n",
      "subject 70439525\n",
      "sigma 0.4106924032933607\n",
      "time 2011-01-20T09:41:44.000000\n",
      "Height arcsec 163.77328693654542\n",
      "Upper lower height [ 49.56659265 -38.05047522]\n",
      "Width arcsec 56.595841985078685\n",
      "start arcsec [-215.556 -973.281]\n",
      "end arcsec [-213.115 -962.534]\n",
      "start pixel [1127.64123535  580.77548218]\n",
      "end pixel [1139.24382324  529.53197021]\n",
      "cluster pixels [7.31285494e+02 4.90262868e+02 2.69820239e+02 7.80822613e+02\n",
      " 4.88444419e-01]\n",
      "cluster solar [-2.98679000e+02 -9.54237000e+02  5.65958420e+01  1.63773287e+02\n",
      "  4.88444419e-01]\n",
      "Jet information\n",
      "subject 70439527\n",
      "sigma 0.3607396637526152\n",
      "time 2011-01-20T09:52:08.000000\n",
      "Height arcsec 136.53832842465872\n",
      "Upper lower height [ 34.23329312 -27.37080422]\n",
      "Width arcsec 51.54250348013764\n",
      "start arcsec [-226.114 -966.366]\n",
      "end arcsec [-224.234 -956.613]\n",
      "start pixel [1077.28125     547.84667969]\n",
      "end pixel [1086.21376038  501.34284592]\n",
      "cluster pixels [8.01409766e+02 4.76067991e+02 2.45729757e+02 6.50949007e+02\n",
      " 5.57750319e-01]\n",
      "cluster solar [-2.83968000e+02 -9.51270000e+02  5.15425035e+01  1.36538328e+02\n",
      "  5.57750319e-01]\n",
      "Jet information\n",
      "subject 70439528\n",
      "sigma 0.4255809645116936\n",
      "time 2011-01-20T09:53:44.000000\n",
      "Height arcsec 117.89084841920511\n",
      "Upper lower height [ 37.6575993  -28.54085911]\n",
      "Width arcsec 49.90629619597108\n",
      "start arcsec [-230.235 -966.794]\n",
      "end arcsec [-227.819 -953.34 ]\n",
      "start pixel [1057.63566589  549.90052795]\n",
      "end pixel [1069.10913086  485.75064087]\n",
      "cluster pixels [8.29309875e+02 4.84388710e+02 2.37928885e+02 5.62051635e+02\n",
      " 5.42599824e-01]\n",
      "cluster solar [-2.78117000e+02 -9.53019000e+02  4.99062962e+01  1.17890848e+02\n",
      "  5.42599824e-01]\n"
     ]
    }
   ],
   "source": [
    "#The additional information in json is in the jets attribute of the JetCluster class\n",
    "#Lists information of the individual jets found in subjects. \n",
    "for C in Jet_clusters[:1]:\n",
    "    for jet in C.jets:\n",
    "        print('Jet information')\n",
    "        print('subject',jet.subject) #Get all Zooniverse subject names\n",
    "        print('sigma',jet.sigma) #Individual sigma values of the jet\n",
    "        print('time',jet.time) #Individual starting time\n",
    "        print('Height arcsec',jet.solar_H) #Height in arcsec\n",
    "        print('Upper lower height',jet.solar_H_sig) #Upper and lower height\n",
    "        print('Width arcsec',jet.solar_W) #width in arcsec\n",
    "        print('start arcsec',jet.solar_start) #Start basepoint x,y Heliocentric solar X,Y coordinates in arcsec\n",
    "        print('end arcsec',jet.solar_end) #End basepoint x,y Heliocentric solar X,Y coordinates in arcsec\n",
    "        print('start pixel',jet.start) #Start basepoint x,y in image pixel coordinates\n",
    "        print('end pixel',jet.end) #End basepoint x,y in image pixel coordinates\n",
    "        print('cluster pixels',jet.cluster_values) #Cluster values of the best fitting box cornerpoint x,y , width , height , angle\n",
    "        print('cluster solar', jet.solar_cluster_values) #Cluster values of the best fitting box cornerpoint x,y , width , height , angle converted to solar units"
   ]
  },
  {
   "cell_type": "markdown",
   "metadata": {},
   "source": [
    "## Importing the MetaFile\n",
    "If you need deeper information on the individual subject or need access to the meta data the MetaFile can be read in to get the needed information. "
   ]
  },
  {
   "cell_type": "code",
   "execution_count": 8,
   "metadata": {},
   "outputs": [],
   "source": [
    "from utils.meta_file_handler import MetaFile\n",
    "\n",
    "metafile = MetaFile('Meta_data_subjects.json')"
   ]
  },
  {
   "cell_type": "code",
   "execution_count": 13,
   "metadata": {},
   "outputs": [
    {
     "name": "stdout",
     "output_type": "stream",
     "text": [
      "70439520\n",
      "{'#file_name_0': 'ssw_cutout_20110120_091544_aia_304_6359.png', '#file_name_14': 'ssw_cutout_20110120_092120_aia_304_6373.png', '#sol_standard': 'SOL2011-01-20T09:00:09L289C165', '#width': 1920.0, '#height': 1440.0, '#naxis1': 301, '#naxis2': 388, '#cunit1': 'arcsec', '#cunit2': 'arcsec', '#crval1': 0.0, '#crval2': 0.0, '#cdelt1': 0.599419, '#cdelt2': 0.599419, '#crpix1': 560.22998, '#crpix2': 1870.209961, '#crota2': -0.040278, '#im_ll_x': '0.28849548969072164', '#im_ll_y': '0.10999999999999999', '#im_ur_x': '0.7365045103092784', '#im_ur_y': '0.88', 'startDate': '2011-01-20 09:15:44', 'endDate': '2011-01-20 09:21:20'}\n",
      " \n",
      "[{'#file_name_0': 'ssw_cutout_20110120_234920_aia_304_6742.png', '#file_name_14': 'ssw_cutout_20110120_235456_aia_304_6756.png', '#sol_standard': 'SOL2011-01-20T22:00:09L353C074', '#width': 1920.0, '#height': 1440.0, '#naxis1': 865, '#naxis2': 865, '#cunit1': 'arcsec', '#cunit2': 'arcsec', '#crval1': 0.0, '#crval2': 0.0, '#cdelt1': 0.599419, '#cdelt2': 0.599419, '#crpix1': 456.22998, '#crpix2': -160.790039, '#crota2': -0.040324, '#im_ll_x': '0.22375', '#im_ll_y': '0.10999999999999999', '#im_ur_x': '0.80125', '#im_ur_y': '0.88', 'startDate': '2011-01-20 23:49:20', 'endDate': '2011-01-20 23:54:56'}\n",
      " {'#file_name_0': 'ssw_cutout_20110120_235432_aia_304_6755.png', '#file_name_14': 'ssw_cutout_20110121_000008_aia_304_6769.png', '#sol_standard': 'SOL2011-01-20T22:00:09L353C074', '#width': 1920.0, '#height': 1440.0, '#naxis1': 865, '#naxis2': 865, '#cunit1': 'arcsec', '#cunit2': 'arcsec', '#crval1': 0.0, '#crval2': 0.0, '#cdelt1': 0.599419, '#cdelt2': 0.599419, '#crpix1': 456.22998, '#crpix2': -160.790039, '#crota2': -0.040312, '#im_ll_x': '0.22375', '#im_ll_y': '0.10999999999999999', '#im_ur_x': '0.80125', '#im_ur_y': '0.88', 'startDate': '2011-01-20 23:54:32', 'endDate': '2011-01-21 00:00:08'}]\n",
      "['ssw_cutout_20110120_234920_aia_304_6742.png'\n",
      " 'ssw_cutout_20110120_235432_aia_304_6755.png']\n"
     ]
    }
   ],
   "source": [
    "#Easiest is to get the subject ID and pull the information from there\n",
    "#Given a Jet_cluster you can thus do\n",
    "print(Jet_clusters[0].jets[0].subject)\n",
    "print(metafile.get_subjectdata_by_id(70439520))\n",
    "print(' ')\n",
    "#Or get a list of all meta data or a specific key like '#file_name_0' \n",
    "subjects_list = metafile.get_subjectid_by_JetCluster(Jet_clusters, 'sjh_2011-01-20T23_1')# or use Jet_cluster[0].ID\n",
    "print(metafile.get_subjectdata_by_JetCluster(Jet_clusters, 'sjh_2011-01-20T23_1'))\n",
    "print(metafile.get_subjectkeyvalue_by_JetCluster(Jet_clusters,'sjh_2011-01-20T23_1', '#file_name_0'))"
   ]
  },
  {
   "cell_type": "code",
   "execution_count": null,
   "metadata": {},
   "outputs": [],
   "source": []
  },
  {
   "cell_type": "code",
   "execution_count": null,
   "metadata": {},
   "outputs": [],
   "source": []
  }
 ],
 "metadata": {
  "kernelspec": {
   "display_name": "Python 3 (ipykernel)",
   "language": "python",
   "name": "python3"
  },
  "language_info": {
   "codemirror_mode": {
    "name": "ipython",
    "version": 3
   },
   "file_extension": ".py",
   "mimetype": "text/x-python",
   "name": "python",
   "nbconvert_exporter": "python",
   "pygments_lexer": "ipython3",
   "version": "3.7.10"
  }
 },
 "nbformat": 4,
 "nbformat_minor": 2
}
