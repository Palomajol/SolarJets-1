{
 "cells": [
  {
   "cell_type": "code",
   "execution_count": null,
   "id": "0e7c208b",
   "metadata": {},
   "outputs": [],
   "source": [
    "aggregator        = Aggregator('reductions/point_reducer_hdbscan_box_the_jets.csv', \n",
    "                               'reductions/shape_reducer_hdbscan_box_the_jets.csv')\n",
    "aggregator_merged = Aggregator('reductions/point_reducer_hdbscan_box_the_jets_merged.csv', \n",
    "                               'reductions/shape_reducer_hdbscan_box_the_jets_merged.csv')"
   ]
  },
  {
   "cell_type": "code",
   "execution_count": null,
   "id": "19f4ae11",
   "metadata": {},
   "outputs": [],
   "source": [
    "#         fig, axs = plt.subplots(1, 2, figsize=(7,6), dpi=150, sharex=True, sharey=True)\n",
    "#         aggregator.plot_subject(subject[0], 'T1', axs[0])\n",
    "#         aggregator.plot_subject(subject[0], 'T5', axs[0])\n",
    "#         aggregator_merged.plot_subject(subject[0], 'T1', axs[1])\n",
    "#         axs[0].axis('off')\n",
    "#         fig.tight_layout()\n",
    "#         plt.show()"
   ]
  }
 ],
 "metadata": {
  "kernelspec": {
   "display_name": "Python 3 (ipykernel)",
   "language": "python",
   "name": "python3"
  },
  "language_info": {
   "codemirror_mode": {
    "name": "ipython",
    "version": 3
   },
   "file_extension": ".py",
   "mimetype": "text/x-python",
   "name": "python",
   "nbconvert_exporter": "python",
   "pygments_lexer": "ipython3",
   "version": "3.9.7"
  }
 },
 "nbformat": 4,
 "nbformat_minor": 5
}
