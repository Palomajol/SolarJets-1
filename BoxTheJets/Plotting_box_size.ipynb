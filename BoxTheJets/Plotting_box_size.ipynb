{
 "cells": [
  {
   "cell_type": "markdown",
   "id": "f0c21949-2b33-4bc8-a486-6fc4816a8f1f",
   "metadata": {},
   "source": [
    "# Plotting box size of the subjects over time for the Box the Jet workflow. Sorted by SOL/ HEK event\n",
    "## Need: aggregator files, subjects_Tc.csv (or T3), SOL_Tc_stats.csv (or T3) and exports file made in Find_export_jetclusters.ipynb\n",
    "This jupyter notebook plots the results of the Box the Jet task, the Jet size over the subjects of the jet clusters per SOL/HEK event  \n",
    "The plotting will add jets that cover multiple subject as red lines for the height and green lines for the width.   \n",
    "Single subject jets will have a black dotted with dashed lines for their height and width. "
   ]
  },
  {
   "cell_type": "code",
   "execution_count": null,
   "id": "95bdacd1-634c-4ac7-b19e-c37286253c34",
   "metadata": {},
   "outputs": [],
   "source": [
    "import numpy as np\n",
    "import matplotlib.pyplot as plt\n",
    "import os\n",
    "\n",
    "import datetime\n",
    "from matplotlib.dates import DateFormatter\n",
    "\n",
    "from aggregation import Aggregator\n",
    "from aggregation import SOL\n",
    "\n",
    "%matplotlib inline"
   ]
  },
  {
   "cell_type": "code",
   "execution_count": null,
   "id": "cd3e42e9-8970-40cf-b2f2-aff1e24bcdb3",
   "metadata": {},
   "outputs": [],
   "source": [
    "subjects,obs_time,end_date,ans,agreement,subject_file, subject_sol=np.loadtxt('../subjects_{}.csv'.format('Tc'),delimiter=',',unpack=True,dtype=str)\n",
    "obs_time=np.array(obs_time,dtype='datetime64')\n",
    "end_date=np.array(end_date,dtype='datetime64')\n",
    "subjects=subjects.astype(int)\n",
    "agreement=agreement.astype(float)\n",
    "\n",
    "aggregator = Aggregator('reductions/point_reducer_hdbscan_box_the_jets.csv', \n",
    "                        'reductions/shape_reducer_optics_box_the_jets.csv')\n",
    "aggregator.load_extractor_data('extracts/point_extractor_by_frame_box_the_jets.csv',\n",
    "                               'extracts/shape_extractor_rotateRectangle_box_the_jets.csv')\n",
    "sol = SOL('../SOL_Tc_stats.csv', aggregator) \n",
    "SOL_small,SOL_subjects,filenames0,times,Num,start,end,notes=np.loadtxt('../SOL_{}_stats.csv'.format('Tc'),delimiter=',',unpack=True,dtype=str)\n",
    "Num=Num.astype(float)\n",
    "\n",
    "Jet_clusters=json_import_list('exports/Jet_clusters_3.0_2.0_final.json')"
   ]
  },
  {
   "cell_type": "code",
   "execution_count": null,
   "id": "68503d37-8f4f-4f80-bfc0-57b97caa4f79",
   "metadata": {},
   "outputs": [],
   "source": [
    "path = 'SOL/SOL_Box_size/'\n",
    "#check if folder for plots exists\n",
    "isExist = os.path.exists(path)\n",
    "if not isExist: \n",
    "  os.makedirs(path)\n",
    "  print(\"SOL_Box directory is created\")"
   ]
  },
  {
   "cell_type": "code",
   "execution_count": null,
   "id": "2f86fa96-2e2c-4178-82ef-bcead3cab270",
   "metadata": {},
   "outputs": [],
   "source": [
    "Cluster_SOL= np.array([Jet_clusters[i].SOL for i in range(len(Jet_clusters))],dtype=str)\n",
    "for s in SOL_small:\n",
    "    I=np.where(Cluster_SOL==s)[0]\n",
    "    if len(I)==0:\n",
    "        continue\n",
    "    fig, (ax1, ax2) = plt.subplots(2,dpi=150,figsize=(4.8,4),sharex=True)\n",
    "    sol_time=sol.get_obs_time(s)\n",
    "    x2, y2 = zip(*sorted(zip(sol_time, [0]*len(sol_time))))\n",
    "    ax2.plot(x2,y2,color='white')\n",
    "    \n",
    "    for C in Jet_clusters[I]:\n",
    "        O=[jet.time for jet in C.jets]\n",
    "        H=[jet.solar_H for jet in C.jets]\n",
    "        W=[jet.solar_W for jet in C.jets]\n",
    "        x1, y1 = zip(*sorted(zip(O, H)))\n",
    "        x2, y2 = zip(*sorted(zip(O, W)))\n",
    "        if len(C.jets)>1:\n",
    "            ax1.plot(x1,y1,color='red')\n",
    "            ax2.plot(x2,y2,color='limegreen')\n",
    "            ax1.fill_between(x1, 0, y1,alpha=0.6,color='red')\n",
    "            ax2.fill_between(x2, 0, y2,alpha=0.6,color='limegreen')\n",
    "            \n",
    "        else:\n",
    "            ax1.scatter(x1,y1,s=5,c='k')\n",
    "            ax1.vlines(x1,0,y1,linestyle='dotted',color='k')\n",
    "            ax2.scatter(x2,y2,s=5,c='k')\n",
    "            ax2.vlines(x2,0,y2,linestyle='dotted',color='k')\n",
    "\n",
    "    ymin, ymax = ax1.get_ylim()\n",
    "    ax2.set_ylim(ymin, ymax)\n",
    "    ax2.xaxis.set_major_formatter(date_form)\n",
    "    plt.xticks(rotation=45)\n",
    "    ax1.set_title(SOL_event)\n",
    "    ax1.set_ylabel('Height (\\'\\')')\n",
    "    ax2.set_ylabel('Width (\\'\\')')\n",
    "    ax2.set_xlabel('Time')\n",
    "    date_form = DateFormatter(\"%H:%M\")\n",
    "    ax1.set_title(s)\n",
    "\n",
    "    plt.savefig('/SOL/SOL_Box_size'+'/'+SOL_event.replace(':','-')+'.png', bbox_inches='tight',dpi=300)\n",
    "\n",
    "    plt.show()"
   ]
  }
 ],
 "metadata": {
  "kernelspec": {
   "display_name": "Python 3 (ipykernel)",
   "language": "python",
   "name": "python3"
  },
  "language_info": {
   "codemirror_mode": {
    "name": "ipython",
    "version": 3
   },
   "file_extension": ".py",
   "mimetype": "text/x-python",
   "name": "python",
   "nbconvert_exporter": "python",
   "pygments_lexer": "ipython3",
   "version": "3.7.10"
  }
 },
 "nbformat": 4,
 "nbformat_minor": 5
}
