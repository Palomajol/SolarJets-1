{
 "cells": [
  {
   "cell_type": "code",
   "execution_count": null,
   "id": "b5e34b8c",
   "metadata": {
    "scrolled": true
   },
   "outputs": [],
   "source": [
    "import numpy as np\n",
    "from astropy.io import ascii\n",
    "import matplotlib.pyplot as plt\n",
    "from matplotlib.patches import Rectangle\n",
    "import ast\n",
    "from panoptes_client import Panoptes, Subject\n",
    "from skimage import io\n",
    "import getpass\n",
    "%matplotlib inline"
   ]
  },
  {
   "cell_type": "code",
   "execution_count": null,
   "id": "847702b1",
   "metadata": {
    "scrolled": true
   },
   "outputs": [],
   "source": [
    "username = getpass.getpass('Username:')\n",
    "password = getpass.getpass('Password:')\n",
    "Panoptes.connect(username=username, password=password)"
   ]
  },
  {
   "cell_type": "code",
   "execution_count": null,
   "id": "34d28792",
   "metadata": {
    "scrolled": true
   },
   "outputs": [],
   "source": [
    "file = 'shape_reducer_hdbscan_proposed.csv'\n",
    "data = ascii.read(file, delimiter=',')\n",
    "print(data.colnames)"
   ]
  },
  {
   "cell_type": "code",
   "execution_count": null,
   "id": "643a3119",
   "metadata": {
    "scrolled": true
   },
   "outputs": [],
   "source": [
    "task_T1 = data['task']=='T1'\n",
    "data_T1 = data[:][task_T1]\n",
    "\n",
    "print(data_T1['data.frame0.T1_tool2_rotateRectangle_width'])\n",
    "\n",
    "data_T1['data.frame0.T1_tool2_rotateRectangle_x'].fill_value = 'None'\n",
    "data_T1['data.frame0.T1_tool2_rotateRectangle_y'].fill_value = 'None'\n",
    "data_T1['data.frame0.T1_tool2_rotateRectangle_height'].fill_value = 'None'\n",
    "data_T1['data.frame0.T1_tool2_rotateRectangle_width'].fill_value = 'None'\n",
    "data_T1['data.frame0.T1_tool2_rotateRectangle_angle'].fill_value = 'None'"
   ]
  },
  {
   "cell_type": "code",
   "execution_count": null,
   "id": "7ee9a62e",
   "metadata": {
    "scrolled": true
   },
   "outputs": [],
   "source": [
    "def get_box_edges(x, y, w, h, a):\n",
    "    cx = (2*x+w)/2\n",
    "    cy = (2*y+h)/2\n",
    "    centre = np.array([cx, cy])\n",
    "    original_points = np.array(\n",
    "      [\n",
    "          [cx - 0.5 * w, cy - 0.5 * h],  # This would be the box if theta = 0\n",
    "          [cx + 0.5 * w, cy - 0.5 * h],\n",
    "          [cx + 0.5 * w, cy + 0.5 * h],\n",
    "          [cx - 0.5 * w, cy + 0.5 * h],\n",
    "          [cx - 0.5 * w, cy - 0.5 * h] # repeat the first point to close the loop\n",
    "      ]\n",
    "    )\n",
    "    rotation = np.array([[np.cos(a), np.sin(a)], [-np.sin(a), np.cos(a)]])\n",
    "    corners = np.matmul(original_points - centre, rotation) + centre\n",
    "    return corners"
   ]
  },
  {
   "cell_type": "code",
   "execution_count": null,
   "id": "8abb3793",
   "metadata": {
    "scrolled": true
   },
   "outputs": [],
   "source": [
    "plt.style.use('default')\n",
    "\n",
    "for i, subject in enumerate(data_T1['subject_id'][:10]):\n",
    "    datai = data_T1[:][i]\n",
    "    \n",
    "    try:\n",
    "        points_x = ast.literal_eval(datai['data.frame0.T1_tool2_rotateRectangle_x'])\n",
    "        points_y = ast.literal_eval(datai['data.frame0.T1_tool2_rotateRectangle_y'])\n",
    "        points_w = ast.literal_eval(datai['data.frame0.T1_tool2_rotateRectangle_width'])\n",
    "        points_h = ast.literal_eval(datai['data.frame0.T1_tool2_rotateRectangle_height'])\n",
    "        points_a = ast.literal_eval(datai['data.frame0.T1_tool2_rotateRectangle_angle'])\n",
    "    except ValueError:\n",
    "        continue\n",
    "    \n",
    "    if len(points_x) < 3:\n",
    "        continue\n",
    "    \n",
    "    subjecti = Subject(int(subject))\n",
    "    try:\n",
    "        frame0_url = subjecti.raw['locations'][7]['image/png']\n",
    "    except KeyError:\n",
    "        frame0_url = subjecti.raw['locations'][7]['image/jpeg']\n",
    "    \n",
    "    img = io.imread(frame0_url)\n",
    "    \n",
    "    fig, ax = plt.subplots(1, 1, dpi=200)\n",
    "    ax.imshow(img)\n",
    "    for j in range(len(points_x)):\n",
    "#         recti = Rectangle((points_x[j], points_y[j]), points_w[j], points_h[j], angle=points_a[j], \n",
    "#                           linewidth=0.5, edgecolor='#aaa', facecolor='none')\n",
    "#         ax.add_patch(recti)\n",
    "        points = get_box_edges(points_x[j], points_y[j], points_w[j], points_h[j], np.radians(points_a[j]))\n",
    "        ax.plot(points[:,0], points[:,1], '-', linewidth=0.5, color='#aaa')\n",
    "#     plt.scatter(points_x, points_y, 5.0, marker='.', color='#aaa')\n",
    "#     plt.scatter(clusters_x_i, clusters_y_i, 10.0, marker='x', color='blue')\n",
    "    \n",
    "    ax.set_title(subject)\n",
    "    ax.axis('off')\n",
    "    fig.tight_layout()\n",
    "    plt.show()"
   ]
  },
  {
   "cell_type": "code",
   "execution_count": null,
   "id": "28c78217",
   "metadata": {
    "scrolled": true
   },
   "outputs": [],
   "source": [
    "clustered_points_mask = data_T1['data.frame0.T1_tool2_clusters_x'].filled()!='None'\n",
    "\n",
    "clustered_subs = data_T1['subject_id'][clustered_points_mask]\n",
    "points_x  = data_T1['data.frame0.T1_tool2_rotateRectangle_x'][clustered_points_mask]\n",
    "points_y  = data_T1['data.frame0.T1_tool2_rotateRectangle_y'][clustered_points_mask]\n",
    "points_h  = data_T1['data.frame0.T1_tool2_rotateRectangle_height'][clustered_points_mask]\n",
    "points_w  = data_T1['data.frame0.T1_tool2_rotateRectangle_width'][clustered_points_mask]\n",
    "points_a  = data_T1['data.frame0.T1_tool2_rotateRectangle_angle'][clustered_points_mask]\n",
    "\n",
    "clusters_x  = data_T1['data.frame0.T1_tool2_clusters_x'][clustered_points_mask]\n",
    "clusters_y  = data_T1['data.frame0.T1_tool2_clusters_y'][clustered_points_mask]\n",
    "clusters_h  = data_T1['data.frame0.T1_tool2_clusters_height'][clustered_points_mask]\n",
    "clusters_w  = data_T1['data.frame0.T1_tool2_clusters_width'][clustered_points_mask]\n",
    "clusters_a  = data_T1['data.frame0.T1_tool2_clusters_angle'][clustered_points_mask]\n",
    "clabels     = data_T1['data.frame0.T1_tool2_cluster_labels'][clustered_points_mask]\n"
   ]
  },
  {
   "cell_type": "code",
   "execution_count": null,
   "id": "47186c07",
   "metadata": {
    "scrolled": true
   },
   "outputs": [],
   "source": [
    "plt.style.use('default')\n",
    "\n",
    "for i, subject in enumerate(clustered_subs):\n",
    "    try:\n",
    "        x_i = ast.literal_eval(points_x[i])\n",
    "        y_i = ast.literal_eval(points_y[i])\n",
    "        h_i = ast.literal_eval(points_h[i])\n",
    "        w_i = ast.literal_eval(points_w[i])\n",
    "        a_i = ast.literal_eval(points_a[i])\n",
    "\n",
    "        cx_i = ast.literal_eval(clusters_x[i])\n",
    "        cy_i = ast.literal_eval(clusters_y[i])\n",
    "        cw_i = ast.literal_eval(clusters_w[i])\n",
    "        ch_i = ast.literal_eval(clusters_h[i])\n",
    "        ca_i = ast.literal_eval(clusters_a[i])\n",
    "    except ValueError:\n",
    "        continue\n",
    "    \n",
    "    labels = ast.literal_eval(clabels[i])\n",
    "    \n",
    "    if max(labels) == -1:\n",
    "        continue\n",
    "    \n",
    "    subjecti = Subject(int(subject))\n",
    "    try:\n",
    "        frame0_url = subjecti.raw['locations'][0]['image/png']\n",
    "    except KeyError:\n",
    "        frame0_url = subjecti.raw['locations'][0]['image/jpeg']\n",
    "    \n",
    "    img = io.imread(frame0_url)\n",
    "    \n",
    "    fig, ax = plt.subplots(1, 1, dpi=200)\n",
    "    ax.imshow(img)\n",
    "    for j in range(len(x_i)):\n",
    "        points = get_box_edges(x_i[j], y_i[j], w_i[j], h_i[j], np.radians(a_i[j]))\n",
    "        ax.plot(points[:,0], points[:,1], '-', linewidth=0.25, color='#aaa')\n",
    "        \n",
    "    for j in range(len(cx_i)):\n",
    "        clust = get_box_edges(cx_i[j], cy_i[j], cw_i[j], ch_i[j], np.radians(ca_i[j]))\n",
    "        ax.plot(clust[:,0], clust[:,1], '-', linewidth=0.5, color='blue')\n",
    "    \n",
    "    ax.axis('off')\n",
    "    fig.tight_layout()\n",
    "    plt.show()"
   ]
  },
  {
   "cell_type": "code",
   "execution_count": null,
   "id": "d4595dbe",
   "metadata": {
    "scrolled": true
   },
   "outputs": [],
   "source": []
  }
 ],
 "metadata": {
  "kernelspec": {
   "display_name": "Python 3 (ipykernel)",
   "language": "python",
   "name": "python3"
  },
  "language_info": {
   "codemirror_mode": {
    "name": "ipython",
    "version": 3
   },
   "file_extension": ".py",
   "mimetype": "text/x-python",
   "name": "python",
   "nbconvert_exporter": "python",
   "pygments_lexer": "ipython3",
   "version": "3.9.7"
  }
 },
 "nbformat": 4,
 "nbformat_minor": 5
}
