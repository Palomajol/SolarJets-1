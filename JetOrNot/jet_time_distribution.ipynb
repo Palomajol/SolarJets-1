{
 "cells": [
  {
   "cell_type": "code",
   "execution_count": 1,
   "id": "bb49ec0f",
   "metadata": {},
   "outputs": [
    {
     "name": "stderr",
     "output_type": "stream",
     "text": [
      "Broken libmagic installation detected. The python-magic module is installed but can't be imported. Please check that both python-magic and the libmagic shared library are installed correctly. Uploading media other than images may not work.\n"
     ]
    }
   ],
   "source": [
    "import numpy as np\n",
    "import matplotlib.pyplot as plt\n",
    "from astropy.io import ascii\n",
    "import os\n",
    "from skimage import io\n",
    "from panoptes_client import Panoptes, Subject, Workflow\n",
    "from dateutil.parser import parse\n",
    "import getpass\n",
    "import subprocess\n",
    "%matplotlib inline"
   ]
  },
  {
   "cell_type": "code",
   "execution_count": 3,
   "id": "d3025c30",
   "metadata": {},
   "outputs": [
    {
     "name": "stdout",
     "output_type": "stream",
     "text": [
      "Username: ········\n",
      "Password: ········\n"
     ]
    },
    {
     "data": {
      "text/plain": [
       "<panoptes_client.panoptes.Panoptes at 0x14c37495ee0>"
      ]
     },
     "execution_count": 3,
     "metadata": {},
     "output_type": "execute_result"
    }
   ],
   "source": [
    "# connect to the panoptes client\n",
    "username = getpass.getpass('Username: ')\n",
    "password = getpass.getpass('Password: ')\n",
    "Panoptes.connect(username=username, password=password)"
   ]
  },
  {
   "cell_type": "code",
   "execution_count": 4,
   "id": "e9e21298",
   "metadata": {},
   "outputs": [],
   "source": [
    "data = ascii.read('question_reducer_jet_or_not.csv', format='csv')\n",
    "\n",
    "# change the columns to make it easier to work with\n",
    "data.rename_column('data.no-there-are-no-jets-in-this-image-sequence', 'data.no')\n",
    "data.rename_column('data.yes-there-is-at-least-one-jet-in-this-image-sequence', 'data.yes')\n",
    "\n",
    "# fill in missing data\n",
    "data['data.yes'].fill_value = 0\n",
    "data['data.no'].fill_value = 0\n",
    "data = data.filled()"
   ]
  },
  {
   "cell_type": "code",
   "execution_count": 5,
   "id": "a31da106",
   "metadata": {},
   "outputs": [
    {
     "name": "stdout",
     "output_type": "stream",
     "text": [
      "Number of subjects: 3961\n"
     ]
    }
   ],
   "source": [
    "print(f\"Number of subjects: {len(data)}\")"
   ]
  },
  {
   "cell_type": "code",
   "execution_count": 6,
   "id": "02703471",
   "metadata": {},
   "outputs": [],
   "source": [
    "num_votes = np.asarray(data['data.no']) + np.asarray(data['data.yes'])\n",
    "counts    = np.asarray(np.dstack([data['data.yes'], data['data.no']])[0])\n",
    "most_likely  = np.argmax(counts, axis=1)\n",
    "\n",
    "value_yes = most_likely==0\n",
    "value_no  = most_likely==1\n",
    "\n",
    "agreement = np.zeros_like(num_votes)\n",
    "\n",
    "agreement[value_yes] = counts[value_yes,0]/(num_votes[value_yes])\n",
    "agreement[value_no]  = counts[value_no,1]/(num_votes[value_no])\n",
    "\n",
    "agreement = np.asarray(agreement)"
   ]
  },
  {
   "cell_type": "markdown",
   "id": "b31dfc7b",
   "metadata": {},
   "source": [
    "Let's look at the observation times of subjects with jets. "
   ]
  },
  {
   "cell_type": "code",
   "execution_count": 8,
   "id": "661268db",
   "metadata": {},
   "outputs": [
    {
     "name": "stdout",
     "output_type": "stream",
     "text": [
      "1212\n"
     ]
    }
   ],
   "source": [
    "jet_mask = most_likely==0\n",
    "jet_subjects = data['subject_id'][jet_mask]\n",
    "\n",
    "print(len(jet_subjects))"
   ]
  },
  {
   "cell_type": "markdown",
   "id": "4058ef32",
   "metadata": {},
   "source": [
    "Now, we need to access the subject metadata. To make simple, I'm going to actually query from Panoptes, since the alternative involves parsing the dictionary from the `subject_data` column in the classification CSV. "
   ]
  },
  {
   "cell_type": "code",
   "execution_count": 24,
   "id": "d78df89c",
   "metadata": {
    "scrolled": false
   },
   "outputs": [
    {
     "name": "stdout",
     "output_type": "stream",
     "text": [
      " [======================================= ] 1212/1212"
     ]
    }
   ],
   "source": [
    "obs_time = []\n",
    "\n",
    "for i, subject in enumerate(jet_subjects):\n",
    "    print(\"\\r [%-40s] %d/%d\"%(int(i/len(jet_subjects)*40)*'=', i+1, len(jet_subjects)), end='')\n",
    "    panoptes_subject = Subject(subject)\n",
    "    \n",
    "    # make sure that this is in the jet subject set\n",
    "    if '100128' not in panoptes_subject.raw['links']['subject_sets']:\n",
    "        continue\n",
    "    \n",
    "    # get the obsdate from the filename (format ssw_cutout_YYYYMMDD_HHMMSS_*.png). we'll strip out the \n",
    "    # extras and just get the date in ISO format and parse it into a datetime array\n",
    "    obs_datestring = panoptes_subject.metadata['#file_name_0'].split('_')[2:4]\n",
    "    obs_time.append(parse(f'{obs_datestring[0]}T{obs_datestring[1]}'))\n"
   ]
  },
  {
   "cell_type": "markdown",
   "id": "a7e22ed7",
   "metadata": {},
   "source": [
    "Do the same for non-jet subjects"
   ]
  },
  {
   "cell_type": "code",
   "execution_count": 28,
   "id": "456e5903",
   "metadata": {},
   "outputs": [
    {
     "name": "stdout",
     "output_type": "stream",
     "text": [
      "2749\n",
      " [======================================= ] 2749/2749"
     ]
    }
   ],
   "source": [
    "obs_time_non_jet = []\n",
    "\n",
    "non_jet_mask = most_likely==1\n",
    "non_jet_subjects = data['subject_id'][non_jet_mask]\n",
    "\n",
    "print(len(non_jet_subjects))\n",
    "\n",
    "for i, subject in enumerate(non_jet_subjects):\n",
    "    print(\"\\r [%-40s] %d/%d\"%(int(i/len(non_jet_subjects)*40)*'=', i+1, len(non_jet_subjects)), end='')\n",
    "    panoptes_subject = Subject(subject)\n",
    "    \n",
    "    # make sure that this is in the jet subject set\n",
    "    if '100128' in panoptes_subject.raw['links']['subject_sets']:\n",
    "        continue\n",
    "    \n",
    "    # get the obsdate from the filename (format ssw_cutout_YYYYMMDD_HHMMSS_*.png). we'll strip out the \n",
    "    # extras and just get the date in ISO format and parse it into a datetime array\n",
    "    obs_datestring = panoptes_subject.metadata['#file_name_0'].split('_')[2:4]\n",
    "    obs_time_non_jet.append(parse(f'{obs_datestring[0]}T{obs_datestring[1]}'))\n"
   ]
  },
  {
   "cell_type": "code",
   "execution_count": 32,
   "id": "662cd352",
   "metadata": {},
   "outputs": [
    {
     "data": {
      "image/png": "[encoded data removed]",
      "text/plain": [
       "<Figure size 900x600 with 1 Axes>"
      ]
     },
     "metadata": {
      "needs_background": "light"
     },
     "output_type": "display_data"
    }
   ],
   "source": [
    "plt.figure(dpi=150)\n",
    "plt.hist(obs_time_non_jet, bins=50, color=\"#aaa\", label=\"Does not contain jets\")\n",
    "plt.hist(obs_time, bins=50, label=\"Contains jets\")\n",
    "plt.xticks(rotation = 45) \n",
    "\n",
    "plt.legend(loc='upper right')\n",
    "\n",
    "plt.show()"
   ]
  }
 ],
 "metadata": {
  "kernelspec": {
   "display_name": "Python 3 (ipykernel)",
   "language": "python",
   "name": "python3"
  },
  "language_info": {
   "codemirror_mode": {
    "name": "ipython",
    "version": 3
   },
   "file_extension": ".py",
   "mimetype": "text/x-python",
   "name": "python",
   "nbconvert_exporter": "python",
   "pygments_lexer": "ipython3",
   "version": "3.9.7"
  }
 },
 "nbformat": 4,
 "nbformat_minor": 5
}
