{
 "cells": [
  {
   "cell_type": "code",
   "execution_count": 33,
   "id": "daddcae5",
   "metadata": {},
   "outputs": [],
   "source": [
    "import numpy as np\n",
    "import matplotlib.pyplot as plt\n",
    "from skimage import io\n",
    "from panoptes_client import Panoptes, Subject, Workflow\n",
    "%matplotlib inline"
   ]
  },
  {
   "cell_type": "code",
   "execution_count": 3,
   "id": "f6e8b8c3",
   "metadata": {},
   "outputs": [],
   "source": [
    "data = np.genfromtxt('subject_reducer.csv', delimiter=',', \n",
    "                     dtype=[('id', int), ('reducer_key', 'S10'), ('workflow_id', int), \n",
    "                            ('subject_id', int), ('agreement', float), \n",
    "                            ('most_likely', int), ('num_votes', int)], \n",
    "                     usecols=(0, 1, 2, 3, 10, 11, 12), encoding='utf-8', skip_header=1)"
   ]
  },
  {
   "cell_type": "code",
   "execution_count": 4,
   "id": "629032d6",
   "metadata": {},
   "outputs": [],
   "source": [
    "consensus_mask = data['reducer_key'] == b'consensus'\n",
    "\n",
    "data_consensus = data[consensus_mask]"
   ]
  },
  {
   "cell_type": "code",
   "execution_count": 5,
   "id": "90c225e0",
   "metadata": {},
   "outputs": [
    {
     "name": "stdout",
     "output_type": "stream",
     "text": [
      "6384\n",
      "6384\n",
      "[1.         1.         1.         ... 1.         0.66666667 1.        ]\n"
     ]
    }
   ],
   "source": [
    "print(len(data_consensus))\n",
    "print(len(np.unique(data_consensus['subject_id'])))\n",
    "print(data_consensus['agreement'])"
   ]
  },
  {
   "cell_type": "code",
   "execution_count": 38,
   "id": "2930c9ba",
   "metadata": {},
   "outputs": [],
   "source": [
    "consensus_agreement = data_consensus['agreement']\n",
    "consensus_value     = data_consensus['most_likely']\n",
    "consensus_count     = data_consensus['num_votes']"
   ]
  },
  {
   "cell_type": "code",
   "execution_count": 7,
   "id": "954128e7",
   "metadata": {},
   "outputs": [
    {
     "data": {
      "image/png": "[encoded data removed]",
      "text/plain": [
       "<Figure size 720x360 with 2 Axes>"
      ]
     },
     "metadata": {
      "needs_background": "light"
     },
     "output_type": "display_data"
    }
   ],
   "source": [
    "fig, axs = plt.subplots(1,2, figsize=(10,5))\n",
    "\n",
    "axs[0].hist(consensus_agreement, 20, range=(0, 1))\n",
    "axs[0].set_xlabel('Agreement')\n",
    "\n",
    "axs[1].hist(consensus_count, 20)\n",
    "axs[1].set_xlabel('# votes')\n",
    "\n",
    "axs[0].set_yscale('log')\n",
    "axs[1].set_yscale('log')\n",
    "\n",
    "plt.show()"
   ]
  },
  {
   "cell_type": "code",
   "execution_count": 8,
   "id": "c7f67bf2",
   "metadata": {},
   "outputs": [
    {
     "data": {
      "image/png": "[encoded data removed]",
      "text/plain": [
       "<Figure size 720x360 with 2 Axes>"
      ]
     },
     "metadata": {
      "needs_background": "light"
     },
     "output_type": "display_data"
    }
   ],
   "source": [
    "agreement80_mask = consensus_agreement>0.8\n",
    "\n",
    "fig, axs = plt.subplots(1,2, figsize=(10,5))\n",
    "\n",
    "axs[0].hist(consensus_agreement[agreement80_mask], 20, range=(0, 1))\n",
    "axs[0].set_xlabel('Agreement')\n",
    "\n",
    "axs[1].hist(consensus_count[agreement80_mask], 20)\n",
    "axs[1].set_xlabel('# votes')\n",
    "\n",
    "axs[0].set_yscale('log')\n",
    "axs[1].set_yscale('log')\n",
    "\n",
    "plt.show()"
   ]
  },
  {
   "cell_type": "code",
   "execution_count": 9,
   "id": "d7aa5df7",
   "metadata": {},
   "outputs": [
    {
     "name": "stdout",
     "output_type": "stream",
     "text": [
      "71\n"
     ]
    },
    {
     "data": {
      "image/png": "[encoded data removed]",
      "text/plain": [
       "<Figure size 720x360 with 2 Axes>"
      ]
     },
     "metadata": {
      "needs_background": "light"
     },
     "output_type": "display_data"
    }
   ],
   "source": [
    "agreement60_mask = consensus_agreement<0.6\n",
    "\n",
    "fig, axs = plt.subplots(1,2, figsize=(10,5))\n",
    "\n",
    "axs[0].hist(consensus_agreement[agreement60_mask], 20, range=(0, 1))\n",
    "axs[0].set_xlabel('Agreement')\n",
    "\n",
    "axs[1].hist(consensus_count[agreement60_mask], 20)\n",
    "axs[1].set_xlabel('# votes')\n",
    "\n",
    "axs[0].set_yscale('log')\n",
    "axs[1].set_yscale('log')\n",
    "\n",
    "print(sum(agreement60_mask))\n",
    "\n",
    "plt.show()"
   ]
  },
  {
   "cell_type": "code",
   "execution_count": 41,
   "id": "f5779224",
   "metadata": {},
   "outputs": [],
   "source": [
    "agreement60_jet_mask = (consensus_agreement<0.6)&(consensus_value==0)\n",
    "\n",
    "subjects60  = data_consensus[agreement60_jet_mask]['subject_id']\n",
    "agreement60 = data_consensus[agreement60_jet_mask]['agreement']\n",
    "count60     = data_consensus[agreement60_jet_mask]['num_votes']\n",
    "value60     = data_consensus[agreement60_jet_mask]['most_likely']"
   ]
  },
  {
   "cell_type": "code",
   "execution_count": 44,
   "id": "1a6943bf",
   "metadata": {},
   "outputs": [
    {
     "name": "stdout",
     "output_type": "stream",
     "text": [
      "[62835486 62834039 70439342 70439948 70440818 70440617 70439517 70440784\n",
      " 70440460 70439293 70440424 70440832 70440739 70440768 70440482 70439418\n",
      " 70440205 70440772 70439653 70439454 70439136 70440707 70440522 70439875\n",
      " 70439814 70444183 70444910 70444627 70444812 70444927 70446099 70444938\n",
      " 70444827 70444529 70444941 70446107]\n",
      "36\n"
     ]
    }
   ],
   "source": [
    "print(subjects60)\n",
    "print(len(subjects60))"
   ]
  },
  {
   "cell_type": "code",
   "execution_count": 52,
   "id": "38f9e059",
   "metadata": {
    "scrolled": false
   },
   "outputs": [],
   "source": [
    "for i, subjecti in enumerate(subjects60):\n",
    "#     print(i)\n",
    "    subject = Subject(subjecti)\n",
    "    location = subject.raw['locations'][0]['image/png']\n",
    "    \n",
    "    img = io.imread(location)\n",
    "    \n",
    "    fig, axi = plt.subplots(1,1, dpi=150)\n",
    "\n",
    "    axi.imshow(img)\n",
    "    axi.axis('off')\n",
    "    \n",
    "    axi.set_title(f'# votes: {count60[i]} agreement: {agreement60[i]:.2f}' )\n",
    "    \n",
    "    plt.savefig(f'agreement60_jet/{subjecti}.png', facecolor='white', bbox_inches='tight')\n",
    "    plt.close(fig)\n",
    "#     plt.show()"
   ]
  },
  {
   "cell_type": "code",
   "execution_count": 64,
   "id": "2919738f",
   "metadata": {},
   "outputs": [
    {
     "name": "stdout",
     "output_type": "stream",
     "text": [
      "1868\n"
     ]
    }
   ],
   "source": [
    "agreement80_jet_mask = (consensus_agreement>0.6)&(consensus_value==0)\n",
    "\n",
    "subjects80  = data_consensus[agreement80_jet_mask]['subject_id']\n",
    "agreement80 = data_consensus[agreement80_jet_mask]['agreement']\n",
    "count80     = data_consensus[agreement80_jet_mask]['num_votes']\n",
    "value80     = data_consensus[agreement80_jet_mask]['most_likely']\n",
    "\n",
    "retired = np.zeros_like(subjects80)\n",
    "\n",
    "print(len(subjects80))"
   ]
  },
  {
   "cell_type": "code",
   "execution_count": 67,
   "id": "e59e6861",
   "metadata": {
    "scrolled": false
   },
   "outputs": [
    {
     "name": "stdout",
     "output_type": "stream",
     "text": [
      " [=================== ] 1867/1868"
     ]
    }
   ],
   "source": [
    "for i, subjecti in enumerate(subjects80):\n",
    "    print(\"\\r [%-20s] %d/%d\"%(int(i/len(subjects80)*20)*'=', i, len(subjects80)), end='')\n",
    "    subject = Subject(subjecti)\n",
    "    retired_at = subject.subject_workflow_status(18563).raw['retired_at'] \n",
    "    if retired_at is None:\n",
    "        retired[i] = 1\n",
    "    else:\n",
    "        retired[i] = 0"
   ]
  },
  {
   "cell_type": "code",
   "execution_count": 70,
   "id": "72e5a006",
   "metadata": {},
   "outputs": [
    {
     "name": "stdout",
     "output_type": "stream",
     "text": [
      "1856\n",
      "12\n"
     ]
    }
   ],
   "source": []
  },
  {
   "cell_type": "code",
   "execution_count": 63,
   "id": "26c260ba",
   "metadata": {
    "scrolled": false
   },
   "outputs": [
    {
     "name": "stdout",
     "output_type": "stream",
     "text": [
      "62835269\n",
      "62835223\n",
      "62833593\n",
      "62835851\n",
      "62835764\n",
      "62833661\n",
      "62832801\n",
      "62832996\n",
      "62833298\n",
      "62835771\n",
      "62833282\n",
      "62835377\n",
      "62835855\n",
      "62835842\n",
      "62835729\n",
      "62835537\n",
      "62833778\n",
      "62833262\n",
      "62835876\n",
      "62835564\n",
      "62835260\n",
      "62835568\n",
      "62832767\n",
      "62833770\n",
      "62835779\n",
      "62833210\n",
      "62833635\n",
      "62832677\n",
      "62835084\n",
      "62832765\n",
      "62833627\n",
      "62832939\n",
      "62832948\n",
      "62833690\n",
      "62835530\n",
      "62833284\n",
      "62833648\n",
      "62834001\n",
      "62835775\n",
      "62833624\n"
     ]
    }
   ],
   "source": [
    "for i, subjecti in enumerate(subjects80[:100]):\n",
    "#     print(i)\n",
    "    subject = Subject(subjecti)\n",
    "    try:\n",
    "        location = subject.raw['locations'][0]['image/jpeg']\n",
    "    except KeyError:\n",
    "        location = subject.raw['locations'][0]['image/png']\n",
    "    except Exception as e:\n",
    "        raise e\n",
    "    retired = subject.subject_workflow_status(18563).raw['retired_at'] \n",
    "    if (count80[i] < 3)&(retired is not None):\n",
    "        print(subjecti)\n",
    "    img = io.imread(location)\n",
    "    \n",
    "    fig, axi = plt.subplots(1,1, dpi=150)\n",
    "\n",
    "    axi.imshow(img)\n",
    "    axi.axis('off')\n",
    "    \n",
    "    axi.set_title(f'# votes: {count80[i]} agreement: {agreement80[i]:.2f}' )\n",
    "    \n",
    "    plt.savefig(f'agreement80_jet/{subjecti}.png', facecolor='white', bbox_inches='tight')\n",
    "    plt.close(fig)\n",
    "#     plt.show()"
   ]
  },
  {
   "cell_type": "code",
   "execution_count": 71,
   "id": "fd3cd392",
   "metadata": {},
   "outputs": [
    {
     "name": "stdout",
     "output_type": "stream",
     "text": [
      "1856\n",
      "12\n"
     ]
    }
   ],
   "source": [
    "n_retired = len(np.where(retired==0)[0])\n",
    "print(n_retired)\n",
    "\n",
    "n_not_retired = len(np.where(retired==1)[0])\n",
    "print(n_not_retired)"
   ]
  },
  {
   "cell_type": "code",
   "execution_count": 75,
   "id": "0f77c38b",
   "metadata": {},
   "outputs": [],
   "source": [
    "not_retired = retired==1\n",
    "\n",
    "subjects_nr  = subjects80[not_retired]\n",
    "agreement_nr = agreement80[not_retired]\n",
    "count_nr     = count80[not_retired]\n",
    "value_nr     = value80[not_retired]"
   ]
  },
  {
   "cell_type": "code",
   "execution_count": 76,
   "id": "016a6de5",
   "metadata": {},
   "outputs": [],
   "source": [
    "for i, subjecti in enumerate(subjects_nr):\n",
    "#     print(i)\n",
    "    subject = Subject(subjecti)\n",
    "    try:\n",
    "        location = subject.raw['locations'][0]['image/jpeg']\n",
    "    except KeyError:\n",
    "        location = subject.raw['locations'][0]['image/png']\n",
    "    except Exception as e:\n",
    "        raise e\n",
    "    retired = subject.subject_workflow_status(18563).raw['retired_at'] \n",
    "    if (count80[i] < 3)&(retired is not None):\n",
    "        print(subjecti)\n",
    "    img = io.imread(location)\n",
    "    \n",
    "    fig, axi = plt.subplots(1,1, dpi=150)\n",
    "\n",
    "    axi.imshow(img)\n",
    "    axi.axis('off')\n",
    "    \n",
    "    axi.set_title(f'# votes: {count80[i]} agreement: {agreement80[i]:.2f}' )\n",
    "    \n",
    "    plt.savefig(f'agreement80_jet/not_retired/{subjecti}.png', facecolor='white', bbox_inches='tight')\n",
    "    plt.close(fig)\n",
    "#     plt.show()"
   ]
  },
  {
   "cell_type": "code",
   "execution_count": null,
   "id": "9f956bcd",
   "metadata": {},
   "outputs": [],
   "source": []
  }
 ],
 "metadata": {
  "kernelspec": {
   "display_name": "Python 3 (ipykernel)",
   "language": "python",
   "name": "python3"
  },
  "language_info": {
   "codemirror_mode": {
    "name": "ipython",
    "version": 3
   },
   "file_extension": ".py",
   "mimetype": "text/x-python",
   "name": "python",
   "nbconvert_exporter": "python",
   "pygments_lexer": "ipython3",
   "version": "3.9.7"
  }
 },
 "nbformat": 4,
 "nbformat_minor": 5
}
